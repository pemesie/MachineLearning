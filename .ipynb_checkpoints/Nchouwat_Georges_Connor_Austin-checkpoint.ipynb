{
 "cells": [
  {
   "cell_type": "markdown",
   "metadata": {},
   "source": [
    "# <u> Part A: Model Code </u>"
   ]
  },
  {
   "cell_type": "code",
   "execution_count": 82,
   "metadata": {},
   "outputs": [],
   "source": [
    "import numpy as np\n",
    "import pandas as pd"
   ]
  },
  {
   "cell_type": "code",
   "execution_count": 83,
   "metadata": {},
   "outputs": [],
   "source": [
    "df = pd.read_csv('datasets/DataScienceRepository/winequality-white.csv', delimiter=';')"
   ]
  },
  {
   "cell_type": "code",
   "execution_count": 84,
   "metadata": {},
   "outputs": [],
   "source": [
    "fixed_acidity = df['fixed acidity']\n",
    "volatile_acidity = df['volatile acidity']"
   ]
  },
  {
   "cell_type": "markdown",
   "metadata": {},
   "source": [
    "### 5. Euclidean Distance"
   ]
  },
  {
   "cell_type": "code",
   "execution_count": 85,
   "metadata": {},
   "outputs": [],
   "source": [
    "import numpy as np\n",
    "\n",
    "def euclidianDistance(a,b):\n",
    "    norm = a - b\n",
    "    norm = norm.dot(norm)\n",
    "    return np.sqrt(norm)"
   ]
  },
  {
   "cell_type": "code",
   "execution_count": 86,
   "metadata": {},
   "outputs": [
    {
     "name": "stdout",
     "output_type": "stream",
     "text": [
      "464.1110898534962\n"
     ]
    }
   ],
   "source": [
    "print(euclidianDistance(fixed_acidity, volatile_acidity))"
   ]
  },
  {
   "cell_type": "markdown",
   "metadata": {},
   "source": [
    "### 6. Manhattan Distance"
   ]
  },
  {
   "cell_type": "code",
   "execution_count": 87,
   "metadata": {},
   "outputs": [],
   "source": [
    "def ManhattanDistance(a,b):\n",
    "    norm = a - b\n",
    "    norm = norm.dot(norm)\n",
    "    return norm"
   ]
  },
  {
   "cell_type": "markdown",
   "metadata": {},
   "source": [
    "### 7. Accuracy and generalization error of two vectors"
   ]
  },
  {
   "cell_type": "code",
   "execution_count": 88,
   "metadata": {},
   "outputs": [],
   "source": [
    "'''\n",
    "This function returns the accuracy and the generalization error.\n",
    "Y is the target from the data set.\n",
    "Accuracy is the ratio of the correct predictions and the total number of predictions.\n",
    "General Error = 1 - accuracy \n",
    "'''\n",
    "\n",
    "def accuracyGeneralizationError(Y, Y_predicted ):\n",
    "#     accuracy = np.mean(Y == Y_predicted)\n",
    "#     gn = 1 - accuracy\n",
    "    count = 0\n",
    "    accuracy = 0\n",
    "    for i, k in zip(Y, Y_predicted):\n",
    "        if (i == 0 and k == 0) or (i ==1 and k == 1) :\n",
    "            count += 1\n",
    "            \n",
    "    accuracy = count / len(Y)\n",
    "#     print(accuracy)\n",
    "    gn = 1 - accuracy\n",
    "    \n",
    "    return accuracy, gn  "
   ]
  },
  {
   "cell_type": "markdown",
   "metadata": {},
   "source": [
    "### 8. precision, recall and F1 score"
   ]
  },
  {
   "cell_type": "code",
   "execution_count": 89,
   "metadata": {},
   "outputs": [],
   "source": [
    "# Precision\n",
    "def precision(Y, Y_predicted):\n",
    "    #truePositive = np.sum(Y == Y_predicted).astype(np.int)\n",
    "    truePositive = 0\n",
    "    totalTruePositive = 0\n",
    "    for i, k in zip(Y, Y_predicted):\n",
    "        if i ==1 and k == 1:\n",
    "            truePositive +=1\n",
    "            totalTruePositive +=1\n",
    "        if i == 0 and k == 1:\n",
    "            totalTruePositive +=1\n",
    "            \n",
    "    return truePositive / totalTruePositive   "
   ]
  },
  {
   "cell_type": "code",
   "execution_count": 90,
   "metadata": {},
   "outputs": [],
   "source": [
    "# recall\n",
    "def recall(Y, Y_predicted):\n",
    "    #truePositive = np.sum(Y == Y_predicted).astype(np.int)\n",
    "    truePositive = 0\n",
    "    falseNegative = 0\n",
    "    for i, k in zip(Y, Y_predicted):\n",
    "        if i == 1 and k == 0:\n",
    "            falseNegative +=1\n",
    "        if i ==1 and k ==1:\n",
    "            truePositive += 1\n",
    "            \n",
    "    return truePositive / ( truePositive + falseNegative )\n"
   ]
  },
  {
   "cell_type": "code",
   "execution_count": 91,
   "metadata": {},
   "outputs": [],
   "source": [
    "# F1 score\n",
    "def F1_score(Y, Y_predicted):\n",
    "    precision = precision(Y, Y_predicted)\n",
    "    recall = recall(Y, Y_predicted)    \n",
    "    \n",
    "    return ( (precision*recall) / (precision+recall) )*2\n"
   ]
  },
  {
   "cell_type": "markdown",
   "metadata": {},
   "source": [
    "### 9. Confusion matrix"
   ]
  },
  {
   "cell_type": "code",
   "execution_count": 92,
   "metadata": {},
   "outputs": [],
   "source": [
    "def confusion_matrix(Y, Y_predicted):\n",
    "    \n",
    "    matrix = np.zeros((2,2))\n",
    "    \n",
    "    truePositive= 0\n",
    "    trueNegative = 0 \n",
    "    falseNegative = 0\n",
    "    falsePositive = 0\n",
    "    #truePositive = np.sum(Y == Y_predicted) #.astype(np.int)\n",
    "    \n",
    "    for i, k in zip(Y, Y_predicted):\n",
    "        if i == 0 and k == 0 :  \n",
    "            trueNegative +=1\n",
    "        if i == 1 and k == 0 :\n",
    "            falseNegative +=1\n",
    "        if i == 0 and k == 1 :\n",
    "            falsePositive += 1\n",
    "        if i == 1 and k ==1:\n",
    "            truePositive += 1\n",
    "     \n",
    "    matrix[0][0] = trueNegative\n",
    "    matrix[0][1] = falsePositive\n",
    "    matrix[1][1] = truePositive\n",
    "    matrix[1][0] = falseNegative\n",
    "            \n",
    "    return matrix"
   ]
  },
  {
   "cell_type": "markdown",
   "metadata": {},
   "source": [
    "#### 10. Receiver Operating Characteristic (ROC) curve"
   ]
  },
  {
   "cell_type": "code",
   "execution_count": 93,
   "metadata": {},
   "outputs": [],
   "source": [
    "# takes arguments from cross_validation_predict()\n",
    "def plot_roc_curve(fpr, tpr, label =None):\n",
    "    \n",
    "    import matplotlib.pyplot as plt\n",
    "    \n",
    "    # these 3 line below are unnecessaary\n",
    "#     conf_matrix = confusion_matrix(Y, Y_predicted)\n",
    "#     FPR = conf_matrix[0][1]/ (conf_matrix[0][1] + conf_matrix[0][0])\n",
    "#     TPR = recall(Y, Y_predicted)\n",
    "    \n",
    "    plt.style.use('ggplot')\n",
    "\n",
    "    fig = plt.figure(figsize=(10, 6))\n",
    "\n",
    "    plt.plot(fpr, tpr, color='darkorange', linewidth=8, label=label) \n",
    "    plt.plot([0, 1], [0, 1], color='navy', lw=2, linestyle='--')\n",
    "    plt.axis([0, 1, 0, 1])\n",
    "    plt.title('ROC Curve (Test Data)')\n",
    "    plt.xlabel('False Positive Rate')\n",
    "    plt.ylabel('True Positive Rate')\n",
    "    \n",
    "    plt.show()"
   ]
  },
  {
   "cell_type": "markdown",
   "metadata": {},
   "source": [
    "# 10."
   ]
  },
  {
   "cell_type": "code",
   "execution_count": null,
   "metadata": {},
   "outputs": [],
   "source": []
  },
  {
   "cell_type": "markdown",
   "metadata": {},
   "source": [
    "# 11."
   ]
  },
  {
   "cell_type": "code",
   "execution_count": null,
   "metadata": {},
   "outputs": [],
   "source": []
  },
  {
   "cell_type": "markdown",
   "metadata": {},
   "source": [
    "# 12."
   ]
  },
  {
   "cell_type": "code",
   "execution_count": null,
   "metadata": {},
   "outputs": [],
   "source": []
  },
  {
   "cell_type": "markdown",
   "metadata": {},
   "source": [
    "# 13. KNN Model Class"
   ]
  },
  {
   "cell_type": "code",
   "execution_count": 94,
   "metadata": {},
   "outputs": [],
   "source": [
    "class KNN(object): # check if this parameter is needed on udemy\n",
    "    \n",
    "    def __init__(self):\n",
    "        #self.k = k\n",
    "        pass\n",
    "    \n",
    "    # distance_f is a function\n",
    "    def fit(self, training_features, training_labels, k, distance_f, **kwargs):\n",
    "        self.training_features = training_features\n",
    "        self.training_labels = training_labels\n",
    "        self.k = k\n",
    "        self.distance_f = distance_f\n",
    "        self.kwargs = kwargs\n",
    "    \n",
    "    # predict\n",
    "    # Need to import:\n",
    "    # from sortedcontainers import SortedList\n",
    "    # import numpy as np\n",
    "    def predict(self, test_features):\n",
    "        \n",
    "        y = np.zeros(len(test_features))\n",
    "        \n",
    "        for i, x in enumerate(test_features):\n",
    "            # to store (distance, label) turples\n",
    "            sl = SortedList(key = self.k) \n",
    "            for j, xt in enumerate(self.training_features):\n",
    "                # compute the distance; here it is Euclidian distance. May need to change it or call the one of the disctance function wrote above\n",
    "                \"\"\" May have to change this code. Call the Euclidian distance function above\n",
    "                        euclidianDistance(x, xt)\n",
    "                \"\"\"\n",
    "                \n",
    "#                 temp = x - xt\n",
    "#                 distance = np.sqrt( temp.dot(temp)  )\n",
    "                \n",
    "                distance = euclidianDistance(x, xt)\n",
    "                \n",
    "                if len(sl) < self.k:\n",
    "                    sl.add( ( distance, self.training_labels[j] )  )\n",
    "                else:\n",
    "                    if distance < sl[-1][0]:\n",
    "                        del sl[-1]\n",
    "                        sl.add( ( distance, self.training_labels[j] )  )\n",
    "                        \n",
    "            \n",
    "            # count how many time a label appears in the sorted list\n",
    "            labelCount = {}\n",
    "            for _, l in sl:\n",
    "                labelCount[l] = labelCount.get(l, 0) + 1 # get() return 0 if label not found; the value otherwise\n",
    "            \n",
    "            # Classify; find the label that appears the most\n",
    "            maxCount = 0\n",
    "            label = -1\n",
    "            for l, labelCount in iteritems(labelCount):\n",
    "                if labelCount > maxCount:\n",
    "                    labelCount = maxCount\n",
    "                    label = l\n",
    "                    \n",
    "            y[i] = label\n",
    "            \n",
    "            \n",
    "        return y\n",
    "    \n",
    "    \n",
    "        \n",
    "        \n",
    "    \n",
    "        "
   ]
  },
  {
   "cell_type": "code",
   "execution_count": 95,
   "metadata": {},
   "outputs": [],
   "source": [
    "# Austin's kNN class, fit, and predict functions\n",
    "class KNNModel:\n",
    "    \n",
    "    training_features = []\n",
    "    training_labels = []\n",
    "    k = 0\n",
    "    distance_f = \"\"\n",
    "    \n",
    "    def __init__(self):\n",
    "        pass\n",
    "    \n",
    "    def fit(self, training_features, training_labels, k, distance_f,\\\n",
    "            **kwargs):\n",
    "        self.training_features = training_features\n",
    "        self.training_labels = training_labels\n",
    "        self.k = k\n",
    "        self.distance_f = distance_f\n",
    "        arguments = {}\n",
    "    \n",
    "    def predict(self, test_features):\n",
    "        return 0"
   ]
  },
  {
   "cell_type": "code",
   "execution_count": 96,
   "metadata": {},
   "outputs": [],
   "source": [
    "# Create test instantiation method for KNNModel class\n",
    "def TestKNNModel():\n",
    "    df = pd.read_csv('datasets/DataScienceRepository/winequality-white.csv',\\\n",
    "                     delimiter=';')\n",
    "    training_features = np.array(df[['quality', 'fixed acidity']])\n",
    "    training_labels = np.array([])\n",
    "    count = 0\n",
    "#     for item in training_features:\n",
    "#         training_labels.append(\"Row Label #%i\" % count)\n",
    "#         count = count + 1"
   ]
  },
  {
   "cell_type": "code",
   "execution_count": 97,
   "metadata": {},
   "outputs": [],
   "source": [
    "TestKNNModel()"
   ]
  },
  {
   "cell_type": "markdown",
   "metadata": {},
   "source": [
    "# Part B: Data Processing"
   ]
  },
  {
   "cell_type": "markdown",
   "metadata": {},
   "source": [
    "### 14. Read in the file as a pandas data frame"
   ]
  },
  {
   "cell_type": "markdown",
   "metadata": {},
   "source": [
    "### 15. Convert target into a two-category variable"
   ]
  },
  {
   "cell_type": "code",
   "execution_count": 98,
   "metadata": {},
   "outputs": [],
   "source": [
    "df[\"quality\"] = (df[\"quality\"] > 5).astype(np.int)"
   ]
  },
  {
   "cell_type": "markdown",
   "metadata": {},
   "source": [
    "### 16. Summary of each variable in terms of mean, standard deviation, and quartiles"
   ]
  },
  {
   "cell_type": "code",
   "execution_count": 99,
   "metadata": {},
   "outputs": [
    {
     "data": {
      "text/html": [
       "<div>\n",
       "<style scoped>\n",
       "    .dataframe tbody tr th:only-of-type {\n",
       "        vertical-align: middle;\n",
       "    }\n",
       "\n",
       "    .dataframe tbody tr th {\n",
       "        vertical-align: top;\n",
       "    }\n",
       "\n",
       "    .dataframe thead th {\n",
       "        text-align: right;\n",
       "    }\n",
       "</style>\n",
       "<table border=\"1\" class=\"dataframe\">\n",
       "  <thead>\n",
       "    <tr style=\"text-align: right;\">\n",
       "      <th></th>\n",
       "      <th>fixed acidity</th>\n",
       "      <th>volatile acidity</th>\n",
       "      <th>citric acid</th>\n",
       "      <th>residual sugar</th>\n",
       "      <th>chlorides</th>\n",
       "      <th>free sulfur dioxide</th>\n",
       "      <th>total sulfur dioxide</th>\n",
       "      <th>density</th>\n",
       "      <th>pH</th>\n",
       "      <th>sulphates</th>\n",
       "      <th>alcohol</th>\n",
       "      <th>quality</th>\n",
       "    </tr>\n",
       "  </thead>\n",
       "  <tbody>\n",
       "    <tr>\n",
       "      <th>count</th>\n",
       "      <td>4898.000000</td>\n",
       "      <td>4898.000000</td>\n",
       "      <td>4898.000000</td>\n",
       "      <td>4898.000000</td>\n",
       "      <td>4898.000000</td>\n",
       "      <td>4898.000000</td>\n",
       "      <td>4898.000000</td>\n",
       "      <td>4898.000000</td>\n",
       "      <td>4898.000000</td>\n",
       "      <td>4898.000000</td>\n",
       "      <td>4898.000000</td>\n",
       "      <td>4898.000000</td>\n",
       "    </tr>\n",
       "    <tr>\n",
       "      <th>mean</th>\n",
       "      <td>6.854788</td>\n",
       "      <td>0.278241</td>\n",
       "      <td>0.334192</td>\n",
       "      <td>6.391415</td>\n",
       "      <td>0.045772</td>\n",
       "      <td>35.308085</td>\n",
       "      <td>138.360657</td>\n",
       "      <td>0.994027</td>\n",
       "      <td>3.188267</td>\n",
       "      <td>0.489847</td>\n",
       "      <td>10.514267</td>\n",
       "      <td>0.665169</td>\n",
       "    </tr>\n",
       "    <tr>\n",
       "      <th>std</th>\n",
       "      <td>0.843868</td>\n",
       "      <td>0.100795</td>\n",
       "      <td>0.121020</td>\n",
       "      <td>5.072058</td>\n",
       "      <td>0.021848</td>\n",
       "      <td>17.007137</td>\n",
       "      <td>42.498065</td>\n",
       "      <td>0.002991</td>\n",
       "      <td>0.151001</td>\n",
       "      <td>0.114126</td>\n",
       "      <td>1.230621</td>\n",
       "      <td>0.471979</td>\n",
       "    </tr>\n",
       "    <tr>\n",
       "      <th>min</th>\n",
       "      <td>3.800000</td>\n",
       "      <td>0.080000</td>\n",
       "      <td>0.000000</td>\n",
       "      <td>0.600000</td>\n",
       "      <td>0.009000</td>\n",
       "      <td>2.000000</td>\n",
       "      <td>9.000000</td>\n",
       "      <td>0.987110</td>\n",
       "      <td>2.720000</td>\n",
       "      <td>0.220000</td>\n",
       "      <td>8.000000</td>\n",
       "      <td>0.000000</td>\n",
       "    </tr>\n",
       "    <tr>\n",
       "      <th>25%</th>\n",
       "      <td>6.300000</td>\n",
       "      <td>0.210000</td>\n",
       "      <td>0.270000</td>\n",
       "      <td>1.700000</td>\n",
       "      <td>0.036000</td>\n",
       "      <td>23.000000</td>\n",
       "      <td>108.000000</td>\n",
       "      <td>0.991723</td>\n",
       "      <td>3.090000</td>\n",
       "      <td>0.410000</td>\n",
       "      <td>9.500000</td>\n",
       "      <td>0.000000</td>\n",
       "    </tr>\n",
       "    <tr>\n",
       "      <th>50%</th>\n",
       "      <td>6.800000</td>\n",
       "      <td>0.260000</td>\n",
       "      <td>0.320000</td>\n",
       "      <td>5.200000</td>\n",
       "      <td>0.043000</td>\n",
       "      <td>34.000000</td>\n",
       "      <td>134.000000</td>\n",
       "      <td>0.993740</td>\n",
       "      <td>3.180000</td>\n",
       "      <td>0.470000</td>\n",
       "      <td>10.400000</td>\n",
       "      <td>1.000000</td>\n",
       "    </tr>\n",
       "    <tr>\n",
       "      <th>75%</th>\n",
       "      <td>7.300000</td>\n",
       "      <td>0.320000</td>\n",
       "      <td>0.390000</td>\n",
       "      <td>9.900000</td>\n",
       "      <td>0.050000</td>\n",
       "      <td>46.000000</td>\n",
       "      <td>167.000000</td>\n",
       "      <td>0.996100</td>\n",
       "      <td>3.280000</td>\n",
       "      <td>0.550000</td>\n",
       "      <td>11.400000</td>\n",
       "      <td>1.000000</td>\n",
       "    </tr>\n",
       "    <tr>\n",
       "      <th>max</th>\n",
       "      <td>14.200000</td>\n",
       "      <td>1.100000</td>\n",
       "      <td>1.660000</td>\n",
       "      <td>65.800000</td>\n",
       "      <td>0.346000</td>\n",
       "      <td>289.000000</td>\n",
       "      <td>440.000000</td>\n",
       "      <td>1.038980</td>\n",
       "      <td>3.820000</td>\n",
       "      <td>1.080000</td>\n",
       "      <td>14.200000</td>\n",
       "      <td>1.000000</td>\n",
       "    </tr>\n",
       "  </tbody>\n",
       "</table>\n",
       "</div>"
      ],
      "text/plain": [
       "       fixed acidity  volatile acidity  citric acid  residual sugar  \\\n",
       "count    4898.000000       4898.000000  4898.000000     4898.000000   \n",
       "mean        6.854788          0.278241     0.334192        6.391415   \n",
       "std         0.843868          0.100795     0.121020        5.072058   \n",
       "min         3.800000          0.080000     0.000000        0.600000   \n",
       "25%         6.300000          0.210000     0.270000        1.700000   \n",
       "50%         6.800000          0.260000     0.320000        5.200000   \n",
       "75%         7.300000          0.320000     0.390000        9.900000   \n",
       "max        14.200000          1.100000     1.660000       65.800000   \n",
       "\n",
       "         chlorides  free sulfur dioxide  total sulfur dioxide      density  \\\n",
       "count  4898.000000          4898.000000           4898.000000  4898.000000   \n",
       "mean      0.045772            35.308085            138.360657     0.994027   \n",
       "std       0.021848            17.007137             42.498065     0.002991   \n",
       "min       0.009000             2.000000              9.000000     0.987110   \n",
       "25%       0.036000            23.000000            108.000000     0.991723   \n",
       "50%       0.043000            34.000000            134.000000     0.993740   \n",
       "75%       0.050000            46.000000            167.000000     0.996100   \n",
       "max       0.346000           289.000000            440.000000     1.038980   \n",
       "\n",
       "                pH    sulphates      alcohol      quality  \n",
       "count  4898.000000  4898.000000  4898.000000  4898.000000  \n",
       "mean      3.188267     0.489847    10.514267     0.665169  \n",
       "std       0.151001     0.114126     1.230621     0.471979  \n",
       "min       2.720000     0.220000     8.000000     0.000000  \n",
       "25%       3.090000     0.410000     9.500000     0.000000  \n",
       "50%       3.180000     0.470000    10.400000     1.000000  \n",
       "75%       3.280000     0.550000    11.400000     1.000000  \n",
       "max       3.820000     1.080000    14.200000     1.000000  "
      ]
     },
     "execution_count": 99,
     "metadata": {},
     "output_type": "execute_result"
    }
   ],
   "source": [
    "df.describe()"
   ]
  },
  {
   "cell_type": "markdown",
   "metadata": {},
   "source": [
    "### 17 Shuffle the rows without affecting the order of the data"
   ]
  },
  {
   "cell_type": "code",
   "execution_count": 100,
   "metadata": {},
   "outputs": [
    {
     "data": {
      "text/html": [
       "<div>\n",
       "<style scoped>\n",
       "    .dataframe tbody tr th:only-of-type {\n",
       "        vertical-align: middle;\n",
       "    }\n",
       "\n",
       "    .dataframe tbody tr th {\n",
       "        vertical-align: top;\n",
       "    }\n",
       "\n",
       "    .dataframe thead th {\n",
       "        text-align: right;\n",
       "    }\n",
       "</style>\n",
       "<table border=\"1\" class=\"dataframe\">\n",
       "  <thead>\n",
       "    <tr style=\"text-align: right;\">\n",
       "      <th></th>\n",
       "      <th>fixed acidity</th>\n",
       "      <th>volatile acidity</th>\n",
       "      <th>citric acid</th>\n",
       "      <th>residual sugar</th>\n",
       "      <th>chlorides</th>\n",
       "      <th>free sulfur dioxide</th>\n",
       "      <th>total sulfur dioxide</th>\n",
       "      <th>density</th>\n",
       "      <th>pH</th>\n",
       "      <th>sulphates</th>\n",
       "      <th>alcohol</th>\n",
       "      <th>quality</th>\n",
       "    </tr>\n",
       "  </thead>\n",
       "  <tbody>\n",
       "    <tr>\n",
       "      <th>59</th>\n",
       "      <td>7.4</td>\n",
       "      <td>0.20</td>\n",
       "      <td>0.36</td>\n",
       "      <td>1.2</td>\n",
       "      <td>0.038</td>\n",
       "      <td>44.0</td>\n",
       "      <td>111.0</td>\n",
       "      <td>0.99260</td>\n",
       "      <td>3.36</td>\n",
       "      <td>0.34</td>\n",
       "      <td>9.9</td>\n",
       "      <td>1</td>\n",
       "    </tr>\n",
       "    <tr>\n",
       "      <th>3842</th>\n",
       "      <td>7.5</td>\n",
       "      <td>0.26</td>\n",
       "      <td>0.31</td>\n",
       "      <td>1.6</td>\n",
       "      <td>0.032</td>\n",
       "      <td>36.0</td>\n",
       "      <td>109.0</td>\n",
       "      <td>0.99044</td>\n",
       "      <td>2.97</td>\n",
       "      <td>0.43</td>\n",
       "      <td>11.9</td>\n",
       "      <td>1</td>\n",
       "    </tr>\n",
       "    <tr>\n",
       "      <th>4023</th>\n",
       "      <td>7.6</td>\n",
       "      <td>0.19</td>\n",
       "      <td>0.37</td>\n",
       "      <td>13.1</td>\n",
       "      <td>0.033</td>\n",
       "      <td>52.0</td>\n",
       "      <td>151.0</td>\n",
       "      <td>0.99726</td>\n",
       "      <td>3.18</td>\n",
       "      <td>0.79</td>\n",
       "      <td>10.4</td>\n",
       "      <td>1</td>\n",
       "    </tr>\n",
       "    <tr>\n",
       "      <th>397</th>\n",
       "      <td>6.3</td>\n",
       "      <td>0.20</td>\n",
       "      <td>0.40</td>\n",
       "      <td>1.5</td>\n",
       "      <td>0.037</td>\n",
       "      <td>35.0</td>\n",
       "      <td>107.0</td>\n",
       "      <td>0.99170</td>\n",
       "      <td>3.46</td>\n",
       "      <td>0.50</td>\n",
       "      <td>11.4</td>\n",
       "      <td>1</td>\n",
       "    </tr>\n",
       "    <tr>\n",
       "      <th>727</th>\n",
       "      <td>7.0</td>\n",
       "      <td>0.21</td>\n",
       "      <td>0.34</td>\n",
       "      <td>8.0</td>\n",
       "      <td>0.057</td>\n",
       "      <td>19.0</td>\n",
       "      <td>101.0</td>\n",
       "      <td>0.99540</td>\n",
       "      <td>2.99</td>\n",
       "      <td>0.59</td>\n",
       "      <td>9.4</td>\n",
       "      <td>0</td>\n",
       "    </tr>\n",
       "  </tbody>\n",
       "</table>\n",
       "</div>"
      ],
      "text/plain": [
       "      fixed acidity  volatile acidity  citric acid  residual sugar  chlorides  \\\n",
       "59              7.4              0.20         0.36             1.2      0.038   \n",
       "3842            7.5              0.26         0.31             1.6      0.032   \n",
       "4023            7.6              0.19         0.37            13.1      0.033   \n",
       "397             6.3              0.20         0.40             1.5      0.037   \n",
       "727             7.0              0.21         0.34             8.0      0.057   \n",
       "\n",
       "      free sulfur dioxide  total sulfur dioxide  density    pH  sulphates  \\\n",
       "59                   44.0                 111.0  0.99260  3.36       0.34   \n",
       "3842                 36.0                 109.0  0.99044  2.97       0.43   \n",
       "4023                 52.0                 151.0  0.99726  3.18       0.79   \n",
       "397                  35.0                 107.0  0.99170  3.46       0.50   \n",
       "727                  19.0                 101.0  0.99540  2.99       0.59   \n",
       "\n",
       "      alcohol  quality  \n",
       "59        9.9        1  \n",
       "3842     11.9        1  \n",
       "4023     10.4        1  \n",
       "397      11.4        1  \n",
       "727       9.4        0  "
      ]
     },
     "execution_count": 100,
     "metadata": {},
     "output_type": "execute_result"
    }
   ],
   "source": [
    "df =  df.sample(frac=1)\n",
    "df.head(5)"
   ]
  },
  {
   "cell_type": "markdown",
   "metadata": {},
   "source": [
    "### 18. Generate pair plot using seaborn package"
   ]
  },
  {
   "cell_type": "code",
   "execution_count": 101,
   "metadata": {},
   "outputs": [],
   "source": [
    "# Commented out since it runs so long\n",
    "# # Matplotlib and seaborn for plotting\n",
    "# import matplotlib.pyplot as plt\n",
    "# %matplotlib inline\n",
    "\n",
    "# import seaborn as sns\n",
    "# from scipy import stats\n",
    "\n",
    "# # Calculate correlation coefficient\n",
    "# def corrfunc(x, y, **kws):\n",
    "#     r, _ = stats.pearsonr(x, y)\n",
    "#     ax = plt.gca()\n",
    "#     ax.annotate(\"r = {:.2f}\".format(r),\n",
    "#                 xy=(.1, .6), xycoords=ax.transAxes,\n",
    "#                size = 24)\n",
    "    \n",
    "# cmap = sns.cubehelix_palette(light=1, dark = 0.1,\n",
    "#                              hue = 0.5, as_cmap=True)\n",
    "\n",
    "# sns.set_context(font_scale=2)\n",
    "\n",
    "# # Pair grid set up\n",
    "# g = sns.PairGrid(df)\n",
    "\n",
    "# # Scatter plot on the upper triangle\n",
    "# g.map_upper(plt.scatter, s=10, color = 'red')\n",
    "\n",
    "# # Distribution on the diagonal\n",
    "# g.map_diag(sns.distplot, kde=False, color = 'red')\n",
    "\n",
    "# # Density Plot and Correlation coefficients on the lower triangle\n",
    "# g.map_lower(sns.kdeplot, cmap = cmap)\n",
    "# g.map_lower(corrfunc);"
   ]
  },
  {
   "cell_type": "code",
   "execution_count": 102,
   "metadata": {},
   "outputs": [
    {
     "data": {
      "text/plain": [
       "\"\\n    Need to go over lecture notes. Read 'information gain'. It seems like correrlation is not suffisient to evaluate \\nthe independence between 2 variables\\n\\n\""
      ]
     },
     "execution_count": 102,
     "metadata": {},
     "output_type": "execute_result"
    }
   ],
   "source": [
    "# Remove redundant features\n",
    "\"\"\"\n",
    "    Need to go over lecture notes. Read 'information gain'. It seems like correrlation is not suffisient to evaluate \n",
    "the independence between 2 variables\n",
    "\n",
    "\"\"\""
   ]
  },
  {
   "cell_type": "code",
   "execution_count": null,
   "metadata": {},
   "outputs": [],
   "source": []
  },
  {
   "cell_type": "markdown",
   "metadata": {},
   "source": [
    "### 19. Drop the redundant features"
   ]
  },
  {
   "cell_type": "code",
   "execution_count": null,
   "metadata": {},
   "outputs": [],
   "source": []
  },
  {
   "cell_type": "markdown",
   "metadata": {},
   "source": [
    "### 20. Function to partition the data into train and test set"
   ]
  },
  {
   "cell_type": "code",
   "execution_count": 103,
   "metadata": {},
   "outputs": [],
   "source": [
    "\"\"\"\n",
    "This function takes 3 arguments: feature matrix (numpy array with rows representing data samples and columns representing \n",
    "features.), target vector (numpy array with labels corresponding to each row of the feature matrix), and t ( a real number\n",
    "to determine the size of partition). \n",
    "\"\"\"\n",
    "def partition(features, target, t):\n",
    "    \n",
    "    rowIndex = int((features.shape[0]*t))\n",
    "    \n",
    "    X_test = features.iloc[:rowIndex]\n",
    "    X_train = features.iloc[rowIndex:]\n",
    "\n",
    "    target_test = target.iloc[:rowIndex]\n",
    "    target_train = target.iloc[rowIndex:]\n",
    "    \n",
    "    return  X_train, X_test, target_train, target_test \n"
   ]
  },
  {
   "cell_type": "markdown",
   "metadata": {},
   "source": [
    "### 21. Naively run your kNN model on the train dataset with k = 5 and using Euclidean distance"
   ]
  },
  {
   "cell_type": "code",
   "execution_count": 104,
   "metadata": {},
   "outputs": [],
   "source": [
    "target = df[\"quality\"]\n",
    "features = df.drop([\"quality\"], axis=1)\n"
   ]
  },
  {
   "cell_type": "code",
   "execution_count": 105,
   "metadata": {},
   "outputs": [],
   "source": [
    "X_train, X_test, target_train, target_test  = partition(features, target, t =0.2)"
   ]
  },
  {
   "cell_type": "code",
   "execution_count": null,
   "metadata": {},
   "outputs": [],
   "source": []
  },
  {
   "cell_type": "code",
   "execution_count": 106,
   "metadata": {},
   "outputs": [],
   "source": [
    "from sortedcontainers import SortedList\n",
    "\n",
    "knn = KNN()\n",
    "knn.fit(X_train, target_train, 5, euclidianDistance)"
   ]
  },
  {
   "cell_type": "code",
   "execution_count": 107,
   "metadata": {},
   "outputs": [],
   "source": [
    "# Commented out since it errors\n",
    "# y_predicted = knn.predict(X_train)\n",
    "# y_predicted"
   ]
  },
  {
   "cell_type": "markdown",
   "metadata": {},
   "source": [
    "# Part C: Model Evaluation"
   ]
  },
  {
   "cell_type": "markdown",
   "metadata": {},
   "source": [
    "<font size=\"6\"><u><strong>22.</strong></u></font>"
   ]
  },
  {
   "cell_type": "code",
   "execution_count": 108,
   "metadata": {},
   "outputs": [],
   "source": [
    "def sFold(folds, data, labels, model, model_args, error_function):\n",
    "    return 0"
   ]
  },
  {
   "cell_type": "code",
   "execution_count": 109,
   "metadata": {},
   "outputs": [],
   "source": [
    "# Example data for k-fold cross validation\n",
    "ex = np.array([[1, 2], [3, 4], [1, 2], [3, 4]])"
   ]
  },
  {
   "cell_type": "code",
   "execution_count": 110,
   "metadata": {},
   "outputs": [],
   "source": [
    "# Get Number of Rows and Columns\n",
    "def GetRowsCols(array):\n",
    "    print(\"Data array has %i data samples (rows)\" % array.shape[0])\n",
    "    print(\"Data array has %i features (columns)\" % array.shape[1])"
   ]
  },
  {
   "cell_type": "code",
   "execution_count": 111,
   "metadata": {},
   "outputs": [
    {
     "name": "stdout",
     "output_type": "stream",
     "text": [
      "Data array has 4 data samples (rows)\n",
      "Data array has 2 features (columns)\n"
     ]
    }
   ],
   "source": [
    "GetRowsCols(ex)"
   ]
  },
  {
   "cell_type": "code",
   "execution_count": 112,
   "metadata": {},
   "outputs": [],
   "source": [
    "# Partition the data array into n equal chunks\n",
    "def SPartician(array, n):\n",
    "    arr_split = np.array_split(array, n)\n",
    "    return arr_split"
   ]
  },
  {
   "cell_type": "code",
   "execution_count": 113,
   "metadata": {},
   "outputs": [
    {
     "data": {
      "text/plain": [
       "[array([[1, 2]]), array([[3, 4]]), array([[1, 2]]), array([[3, 4]])]"
      ]
     },
     "execution_count": 113,
     "metadata": {},
     "output_type": "execute_result"
    }
   ],
   "source": [
    "SPartician(ex, 4)"
   ]
  },
  {
   "cell_type": "code",
   "execution_count": null,
   "metadata": {},
   "outputs": [],
   "source": []
  }
 ],
 "metadata": {
  "kernelspec": {
   "display_name": "Python 3",
   "language": "python",
   "name": "python3"
  },
  "language_info": {
   "codemirror_mode": {
    "name": "ipython",
    "version": 3
   },
   "file_extension": ".py",
   "mimetype": "text/x-python",
   "name": "python",
   "nbconvert_exporter": "python",
   "pygments_lexer": "ipython3",
   "version": "3.7.1"
  }
 },
 "nbformat": 4,
 "nbformat_minor": 2
}
