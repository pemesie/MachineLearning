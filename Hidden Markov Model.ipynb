{
 "cells": [
  {
   "cell_type": "markdown",
   "metadata": {},
   "source": [
    "# HMM Model"
   ]
  },
  {
   "cell_type": "code",
   "execution_count": null,
   "metadata": {},
   "outputs": [],
   "source": [
    "\"\"\"\n",
    "A matrix:\n",
    "\n",
    "            healthy    depressed\n",
    "healthy      0.8          0.2\n",
    "\n",
    "depressed   0.001         0.999\n",
    "\n",
    "\n",
    "pi matrix:\n",
    "            \n",
    "healthy  depressed\n",
    " 0.5        0.5\n",
    " \n",
    " \n",
    "B matrix:\n",
    "\n",
    "            movement   passive net   active net   texting   visiting\n",
    "healthy       0.5        0.35          0.2          0.2       0.2\n",
    "\n",
    "depressed     0.5        0.1           0.3          0.1       0.0\n",
    "\n",
    "\n",
    "Observable state: [0, 1, 2, 3, 4]\n",
    "\n",
    "\"\"\""
   ]
  },
  {
   "cell_type": "code",
   "execution_count": 16,
   "metadata": {},
   "outputs": [],
   "source": [
    "import numpy as np\n",
    "\n",
    "PI = np.array( [0.5, 0.5] )\n",
    "\n",
    "A = np.array([ [0.8, 0.2],\n",
    "                [0.001, 0.999] ])\n",
    "\n",
    "B = np.array([ [0.5, 0.35, 0.2, 0.2, 0.2],\n",
    "               [0.5, 0.1, 0.3, 0.1, 0.0]  ])\n",
    "\n",
    "Observables =  np.array( [0, 1, 2, 3, 4] )\n",
    "\n"
   ]
  },
  {
   "cell_type": "markdown",
   "metadata": {},
   "source": [
    "#  Filtering\n",
    "### Use the forward algorithm to compute the posterior distribution over the most recent state given all evidence (observation) to date."
   ]
  },
  {
   "cell_type": "code",
   "execution_count": 17,
   "metadata": {},
   "outputs": [],
   "source": [
    "def forward(PI, A, B, Observables):\n",
    "    M = len(Observables) # nber of observation symbols\n",
    "    N = A.shape[0]\n",
    "    \n",
    "    alpha = np.zeros( ( N, M) )\n",
    "    alpha[ :, 0] = PI * B[ :, Observables[0] ]\n",
    "#     print(alpha)\n",
    "    \n",
    "    for t in range(1, M):\n",
    "        for j in range(N):\n",
    "            for i in range(N):\n",
    "                alpha[j, t] += alpha[i, t-1] * A[i, j] * B[j, Observables[t]] \n",
    "                \n",
    "    return alpha"
   ]
  },
  {
   "cell_type": "code",
   "execution_count": 18,
   "metadata": {},
   "outputs": [
    {
     "data": {
      "text/plain": [
       "array([[0.25      , 0.0700875 , 0.01122   , 0.00179784, 0.00028796],\n",
       "       [0.25      , 0.029975  , 0.01318876, 0.00154196, 0.        ]])"
      ]
     },
     "execution_count": 18,
     "metadata": {},
     "output_type": "execute_result"
    }
   ],
   "source": [
    "forward(PI, A, B, Observables)"
   ]
  },
  {
   "cell_type": "markdown",
   "metadata": {},
   "source": [
    "### Implement the normalized forward algorithm"
   ]
  },
  {
   "cell_type": "code",
   "execution_count": 19,
   "metadata": {},
   "outputs": [],
   "source": [
    "def forward_normalized(PI, A, B, Observables):\n",
    "    M = len(Observables) # nber of observation symbols\n",
    "    N = A.shape[0]\n",
    "    \n",
    "    alpha = np.zeros( ( N, M) )\n",
    "    alpha[ :, 0] = PI * B[ :, Observables[0] ] # initialize alpha[:,0]\n",
    "\n",
    "    c = np.zeros(M)\n",
    "    c[0] = sum(alpha[:, 0]) # compute c[0] simple have alpha[:,0]\n",
    "    \n",
    "    # compute alpha\n",
    "    for t in range(1, M):\n",
    "        for j in range(N):\n",
    "            for i in range(N):\n",
    "                alpha[j, t] += alpha[i, t-1] * A[i, j] * B[j, Observables[t]] \n",
    "            \n",
    "        c[t] =  sum(alpha[ :, t])\n",
    "    \n",
    "    # compute alpha_normalized\n",
    "    alpha_normalized = np.zeros( (N, M) )\n",
    "    for x in range(N):\n",
    "        for y in range(M):\n",
    "            alpha_normalized[x, y] = alpha[x, y] / c[y]  \n",
    "            \n",
    "    return alpha_normalized, c"
   ]
  },
  {
   "cell_type": "code",
   "execution_count": 20,
   "metadata": {},
   "outputs": [
    {
     "data": {
      "text/plain": [
       "(array([[0.5       , 0.70043723, 0.45967097, 0.53830778, 1.        ],\n",
       "        [0.5       , 0.29956277, 0.54032903, 0.46169222, 0.        ]]),\n",
       " array([5.00000000e-01, 1.00062500e-01, 2.44087525e-02, 3.33979373e-03,\n",
       "        2.87962304e-04]))"
      ]
     },
     "execution_count": 20,
     "metadata": {},
     "output_type": "execute_result"
    }
   ],
   "source": [
    "forward_normalized(PI, A, B, Observables)"
   ]
  },
  {
   "cell_type": "markdown",
   "metadata": {},
   "source": [
    "## Evaluation"
   ]
  },
  {
   "cell_type": "markdown",
   "metadata": {},
   "source": [
    "### Implement the following function to evaluate the probability of a given observation sequence by using the unnormalized forward variable"
   ]
  },
  {
   "cell_type": "code",
   "execution_count": 21,
   "metadata": {},
   "outputs": [],
   "source": [
    "alpha = forward(PI, A, B, Observables)\n",
    "\n",
    "def evaluation_unnormalized(alpha):\n",
    "    \n",
    "    evaluation = 0\n",
    "    for y in range(alpha.shape[1]):\n",
    "        evaluation +=  np.sum(alpha[:, y]) \n",
    "        \n",
    "    return evaluation "
   ]
  },
  {
   "cell_type": "code",
   "execution_count": 23,
   "metadata": {},
   "outputs": [
    {
     "data": {
      "text/plain": [
       "0.6280990085293447"
      ]
     },
     "execution_count": 23,
     "metadata": {},
     "output_type": "execute_result"
    }
   ],
   "source": [
    "evaluation_unnormalized(alpha)"
   ]
  },
  {
   "cell_type": "markdown",
   "metadata": {},
   "source": [
    "### Evaluate the log probability of the given observation sequence by using the normalized forward variables"
   ]
  },
  {
   "cell_type": "code",
   "execution_count": 24,
   "metadata": {},
   "outputs": [],
   "source": [
    "c = forward_normalized(PI, A, B, Observables)[1]\n",
    "\n",
    "def evaluation_normalized(c):\n",
    "    \n",
    "    evaluation_nor = 0\n",
    "    for t in range(c.shape[0]):\n",
    "        evaluation_nor += np.log( c[t] )\n",
    "        \n",
    "    return -evaluation_nor"
   ]
  },
  {
   "cell_type": "code",
   "execution_count": 25,
   "metadata": {},
   "outputs": [
    {
     "data": {
      "text/plain": [
       "20.562448180121468"
      ]
     },
     "execution_count": 25,
     "metadata": {},
     "output_type": "execute_result"
    }
   ],
   "source": [
    "evaluation_normalized(c)"
   ]
  },
  {
   "cell_type": "markdown",
   "metadata": {},
   "source": [
    "## Backward Probability"
   ]
  },
  {
   "cell_type": "markdown",
   "metadata": {},
   "source": [
    "### Using the backward algorithm compute the backward variables, which is the probability of being in state Si at time t and observing the partial sequence Ot+1, Ot+2, …, OT."
   ]
  },
  {
   "cell_type": "code",
   "execution_count": 26,
   "metadata": {},
   "outputs": [],
   "source": [
    "def backward(PI, A, B, Observables):\n",
    "    \n",
    "    N = A.shape[0]\n",
    "    M =len(Observables)\n",
    "    \n",
    "    beta = np.zeros( (N, M )  ) # N*M matrix\n",
    "    beta[:, M-1] = 1 # initialize beta_T\n",
    "    \n",
    "    for t in range( M-2, -1, -1): # stop at T-1\n",
    "        for j in range(N):\n",
    "            for i in range(N):\n",
    "                beta[i,t] += B[ j, Observables[t+1] ] * beta[ j, t+1 ] * A[i,j]\n",
    "                \n",
    "    return beta\n",
    "        "
   ]
  },
  {
   "cell_type": "code",
   "execution_count": 27,
   "metadata": {},
   "outputs": [
    {
     "data": {
      "text/plain": [
       "array([[1.14834645e-03, 4.09975880e-03, 2.56040000e-02, 1.60000000e-01,\n",
       "        1.00000000e+00],\n",
       "       [3.50276626e-06, 2.06992060e-05, 5.19800000e-05, 2.00000000e-04,\n",
       "        1.00000000e+00]])"
      ]
     },
     "execution_count": 27,
     "metadata": {},
     "output_type": "execute_result"
    }
   ],
   "source": [
    "backward(PI, A, B, Observables)"
   ]
  },
  {
   "cell_type": "markdown",
   "metadata": {},
   "source": [
    "### Implement the normalized backward algorithm"
   ]
  },
  {
   "cell_type": "code",
   "execution_count": 28,
   "metadata": {},
   "outputs": [],
   "source": [
    "# c = forward_normalized(PI, A, B, Observables)[1] # c for forward normalized\n",
    "\n",
    "def backward_normalized(PI, A, B, c, Observables):\n",
    "    \n",
    "    N = A.shape[0]\n",
    "    M =len(Observables)\n",
    "    \n",
    "    beta = np.zeros( (N, M )  ) # N*M matrix\n",
    "    beta[:, M-1] = 1 # initialize beta_T\n",
    "    \n",
    "    beta_nor = np.zeros( (N,M) )\n",
    "    \n",
    "    for t in range( M-2, -1, -1): # stop at T-1\n",
    "        for j in range(N):\n",
    "            for i in range(N):\n",
    "                beta[i,t] += B[ j, Observables[t+1] ] * beta[ j, t+1 ] * A[i,j]\n",
    "    \n",
    "    for x in range(N):\n",
    "        for y in range(M):\n",
    "            beta_nor[x,y] = beta[x,y] / c[y]\n",
    "                \n",
    "    return beta_nor"
   ]
  },
  {
   "cell_type": "code",
   "execution_count": 29,
   "metadata": {},
   "outputs": [
    {
     "data": {
      "text/plain": [
       "array([[2.29669290e-03, 4.09719805e-02, 1.04896799e+00, 4.79071503e+01,\n",
       "        3.47267676e+03],\n",
       "       [7.00553252e-06, 2.06862771e-04, 2.12956398e-03, 5.98839379e-02,\n",
       "        3.47267676e+03]])"
      ]
     },
     "execution_count": 29,
     "metadata": {},
     "output_type": "execute_result"
    }
   ],
   "source": [
    "backward_normalized(PI, A, B, c, Observables)"
   ]
  },
  {
   "cell_type": "markdown",
   "metadata": {},
   "source": [
    "### Smoothing by Forward-Backward Algorithm"
   ]
  },
  {
   "cell_type": "code",
   "execution_count": 30,
   "metadata": {},
   "outputs": [],
   "source": [
    "alpha_normalized = forward_normalized(PI, A, B, Observables)[0]\n",
    "beta_normalized = backward_normalized(PI, A, B, c, Observables)\n",
    "noOfStates = A.shape[0]\n",
    "noOfTimeSteps = B.shape[1]\n",
    "\n",
    "def smoothed_probability(alpha_normalized, beta_normalized, noOfStates, noOfTimeSteps):\n",
    "    \n",
    "    smoothed_probability = np.zeros( (noOfStates,noOfTimeSteps) )\n",
    "    \n",
    "    numerator = 0\n",
    "    denominator = 0\n",
    "    for t in range(noOfTimeSteps):\n",
    "        \n",
    "        for i in range(noOfStates):\n",
    "            numerator = alpha_normalized[i, t] * beta_normalized[i,t]\n",
    "            \n",
    "            for j in range(noOfStates):\n",
    "                denominator += alpha_normalized[j, t] * beta_normalized[j,t] \n",
    "            \n",
    "            smoothed_probability[i,t] = numerator / denominator\n",
    "            \n",
    "    return smoothed_probability"
   ]
  },
  {
   "cell_type": "code",
   "execution_count": 31,
   "metadata": {},
   "outputs": [
    {
     "data": {
      "text/plain": [
       "array([[9.96959006e-01, 9.23845309e-01, 8.87739417e-01, 9.60729549e-01,\n",
       "        9.85062597e-01],\n",
       "       [1.52049687e-03, 1.03584081e-03, 1.12097526e-03, 5.25033827e-04,\n",
       "        0.00000000e+00]])"
      ]
     },
     "execution_count": 31,
     "metadata": {},
     "output_type": "execute_result"
    }
   ],
   "source": [
    "smoothed_probability(alpha_normalized, beta_normalized, noOfStates, noOfTimeSteps)"
   ]
  }
 ],
 "metadata": {
  "kernelspec": {
   "display_name": "Python 3",
   "language": "python",
   "name": "python3"
  },
  "language_info": {
   "codemirror_mode": {
    "name": "ipython",
    "version": 3
   },
   "file_extension": ".py",
   "mimetype": "text/x-python",
   "name": "python",
   "nbconvert_exporter": "python",
   "pygments_lexer": "ipython3",
   "version": "3.7.1"
  }
 },
 "nbformat": 4,
 "nbformat_minor": 2
}
